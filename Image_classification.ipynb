{
 "cells": [
  {
   "cell_type": "markdown",
   "id": "6f037ce6",
   "metadata": {},
   "source": [
    "# Assignment 1 Code - Group 49"
   ]
  },
  {
   "cell_type": "markdown",
   "id": "4cc57df1",
   "metadata": {},
   "source": [
    "## Load Data"
   ]
  },
  {
   "cell_type": "code",
   "execution_count": 1,
   "id": "0fd82ead",
   "metadata": {},
   "outputs": [
    {
     "name": "stdout",
     "output_type": "stream",
     "text": [
      "['train.csv']\n"
     ]
    }
   ],
   "source": [
    "import numpy as np\n",
    "import pandas as pd\n",
    "import os\n",
    "import timeit\n",
    "import time\n",
    "print(os.listdir(\"./Input/train\"))\n",
    "pd.set_option('display.max_columns', 10)\n",
    "\n",
    "np.random.seed(2022)"
   ]
  },
  {
   "cell_type": "markdown",
   "id": "496ce9e1",
   "metadata": {},
   "source": [
    "### load librarys"
   ]
  },
  {
   "cell_type": "code",
   "execution_count": 2,
   "id": "5cd64b9b",
   "metadata": {},
   "outputs": [],
   "source": [
    "#Data Preprocessing\n",
    "from sklearn import preprocessing\n",
    "from sklearn.preprocessing import MinMaxScaler\n",
    "from sklearn.model_selection import train_test_split\n",
    "from sklearn.preprocessing import StandardScaler\n",
    "from sklearn.decomposition import PCA\n",
    "%matplotlib inline\n",
    "import matplotlib as mpl\n",
    "import matplotlib.pyplot as plt\n",
    "mpl.rc('axes', labelsize=14)\n",
    "mpl.rc('xtick', labelsize=12)\n",
    "mpl.rc('ytick', labelsize=12)\n",
    "\n",
    "#Grid Search\n",
    "from sklearn.model_selection import GridSearchCV\n",
    "from sklearn.neighbors import NearestNeighbors, KNeighborsClassifier\n",
    "from sklearn import metrics\n",
    "from sklearn.metrics import accuracy_score \n",
    "\n",
    "#Logistic regression\n",
    "from sklearn.utils._testing import ignore_warnings\n",
    "from sklearn.exceptions import ConvergenceWarning\n",
    "from sklearn.linear_model import LogisticRegression\n",
    "from warnings import simplefilter\n",
    "\n",
    "#svm\n",
    "from sklearn import svm\n",
    "from sklearn.svm import SVC\n",
    "from sklearn.ensemble import RandomForestClassifier\n",
    "\n",
    "#Random Forest\n",
    "from onedal.svm import SVC\n",
    "from sklearn.ensemble import RandomForestClassifier\n",
    "from sklearn.model_selection import cross_val_score, StratifiedKFold, train_test_split\n",
    "\n",
    "#Ensemble\n",
    "from sklearn.ensemble import StackingClassifier\n",
    "from mlxtend.classifier import StackingCVClassifier"
   ]
  },
  {
   "cell_type": "code",
   "execution_count": 3,
   "id": "49c1c2ce",
   "metadata": {},
   "outputs": [],
   "source": [
    "# train.csv including feature and label using for training model.\n",
    "data_train_df = pd.read_csv('./Input/train/train.csv')"
   ]
  },
  {
   "cell_type": "code",
   "execution_count": 4,
   "id": "72651d07",
   "metadata": {},
   "outputs": [
    {
     "data": {
      "text/html": [
       "<div>\n",
       "<style scoped>\n",
       "    .dataframe tbody tr th:only-of-type {\n",
       "        vertical-align: middle;\n",
       "    }\n",
       "\n",
       "    .dataframe tbody tr th {\n",
       "        vertical-align: top;\n",
       "    }\n",
       "\n",
       "    .dataframe thead th {\n",
       "        text-align: right;\n",
       "    }\n",
       "</style>\n",
       "<table border=\"1\" class=\"dataframe\">\n",
       "  <thead>\n",
       "    <tr style=\"text-align: right;\">\n",
       "      <th></th>\n",
       "      <th>id</th>\n",
       "      <th>v1</th>\n",
       "      <th>v2</th>\n",
       "      <th>v3</th>\n",
       "      <th>v4</th>\n",
       "      <th>...</th>\n",
       "      <th>v781</th>\n",
       "      <th>v782</th>\n",
       "      <th>v783</th>\n",
       "      <th>v784</th>\n",
       "      <th>label</th>\n",
       "    </tr>\n",
       "  </thead>\n",
       "  <tbody>\n",
       "    <tr>\n",
       "      <th>0</th>\n",
       "      <td>0</td>\n",
       "      <td>0</td>\n",
       "      <td>0</td>\n",
       "      <td>0</td>\n",
       "      <td>0</td>\n",
       "      <td>...</td>\n",
       "      <td>0</td>\n",
       "      <td>0</td>\n",
       "      <td>0</td>\n",
       "      <td>0</td>\n",
       "      <td>2</td>\n",
       "    </tr>\n",
       "    <tr>\n",
       "      <th>1</th>\n",
       "      <td>1</td>\n",
       "      <td>0</td>\n",
       "      <td>0</td>\n",
       "      <td>0</td>\n",
       "      <td>0</td>\n",
       "      <td>...</td>\n",
       "      <td>0</td>\n",
       "      <td>0</td>\n",
       "      <td>0</td>\n",
       "      <td>0</td>\n",
       "      <td>1</td>\n",
       "    </tr>\n",
       "    <tr>\n",
       "      <th>2</th>\n",
       "      <td>2</td>\n",
       "      <td>0</td>\n",
       "      <td>0</td>\n",
       "      <td>0</td>\n",
       "      <td>0</td>\n",
       "      <td>...</td>\n",
       "      <td>0</td>\n",
       "      <td>0</td>\n",
       "      <td>0</td>\n",
       "      <td>0</td>\n",
       "      <td>1</td>\n",
       "    </tr>\n",
       "    <tr>\n",
       "      <th>3</th>\n",
       "      <td>3</td>\n",
       "      <td>0</td>\n",
       "      <td>0</td>\n",
       "      <td>0</td>\n",
       "      <td>1</td>\n",
       "      <td>...</td>\n",
       "      <td>0</td>\n",
       "      <td>0</td>\n",
       "      <td>0</td>\n",
       "      <td>0</td>\n",
       "      <td>4</td>\n",
       "    </tr>\n",
       "    <tr>\n",
       "      <th>4</th>\n",
       "      <td>4</td>\n",
       "      <td>0</td>\n",
       "      <td>0</td>\n",
       "      <td>0</td>\n",
       "      <td>0</td>\n",
       "      <td>...</td>\n",
       "      <td>0</td>\n",
       "      <td>0</td>\n",
       "      <td>0</td>\n",
       "      <td>0</td>\n",
       "      <td>8</td>\n",
       "    </tr>\n",
       "  </tbody>\n",
       "</table>\n",
       "<p>5 rows × 786 columns</p>\n",
       "</div>"
      ],
      "text/plain": [
       "   id  v1  v2  v3  v4  ...  v781  v782  v783  v784  label\n",
       "0   0   0   0   0   0  ...     0     0     0     0      2\n",
       "1   1   0   0   0   0  ...     0     0     0     0      1\n",
       "2   2   0   0   0   0  ...     0     0     0     0      1\n",
       "3   3   0   0   0   1  ...     0     0     0     0      4\n",
       "4   4   0   0   0   0  ...     0     0     0     0      8\n",
       "\n",
       "[5 rows x 786 columns]"
      ]
     },
     "execution_count": 4,
     "metadata": {},
     "output_type": "execute_result"
    }
   ],
   "source": [
    "data_train_df.head()"
   ]
  },
  {
   "cell_type": "code",
   "execution_count": 5,
   "id": "8d26f06d",
   "metadata": {},
   "outputs": [],
   "source": [
    "# Selecting input feature\n",
    "data_train_feature = data_train_df.loc[:, \"v1\":\"v784\"].to_numpy()\n",
    "# Selecting output lable\n",
    "data_train_label = data_train_df.label.to_numpy()"
   ]
  },
  {
   "cell_type": "code",
   "execution_count": 6,
   "id": "95e37fc8",
   "metadata": {},
   "outputs": [
    {
     "data": {
      "image/png": "[encoded data removed]",
      "text/plain": [
       "<Figure size 432x288 with 1 Axes>"
      ]
     },
     "metadata": {
      "needs_background": "light"
     },
     "output_type": "display_data"
    }
   ],
   "source": [
    "# import matplotlib.pyplot as plt\n",
    "data_train_feature_image = data_train_feature.reshape((data_train_feature.shape[0], \n",
    "28, 28))\n",
    "plt.imshow(data_train_feature_image[0], cmap=plt.get_cmap('gray'))\n",
    "plt.title(\"class \" + str(data_train_label[0]) + \": Pullover\" )\n",
    "plt.show()"
   ]
  },
  {
   "cell_type": "code",
   "execution_count": 7,
   "id": "1b6dc41e",
   "metadata": {},
   "outputs": [],
   "source": [
    "# test_input.csv includes 5000 samples used for label prediction. Test samples, do not have labels.\n",
    "data_test_df = pd.read_csv('./Input/test/test_input.csv')"
   ]
  },
  {
   "cell_type": "code",
   "execution_count": 8,
   "id": "fc4b0b2b",
   "metadata": {},
   "outputs": [
    {
     "data": {
      "text/html": [
       "<div>\n",
       "<style scoped>\n",
       "    .dataframe tbody tr th:only-of-type {\n",
       "        vertical-align: middle;\n",
       "    }\n",
       "\n",
       "    .dataframe tbody tr th {\n",
       "        vertical-align: top;\n",
       "    }\n",
       "\n",
       "    .dataframe thead th {\n",
       "        text-align: right;\n",
       "    }\n",
       "</style>\n",
       "<table border=\"1\" class=\"dataframe\">\n",
       "  <thead>\n",
       "    <tr style=\"text-align: right;\">\n",
       "      <th></th>\n",
       "      <th>id</th>\n",
       "      <th>v1</th>\n",
       "      <th>v2</th>\n",
       "      <th>v3</th>\n",
       "      <th>v4</th>\n",
       "      <th>...</th>\n",
       "      <th>v780</th>\n",
       "      <th>v781</th>\n",
       "      <th>v782</th>\n",
       "      <th>v783</th>\n",
       "      <th>v784</th>\n",
       "    </tr>\n",
       "  </thead>\n",
       "  <tbody>\n",
       "    <tr>\n",
       "      <th>0</th>\n",
       "      <td>0</td>\n",
       "      <td>0</td>\n",
       "      <td>0</td>\n",
       "      <td>0</td>\n",
       "      <td>0</td>\n",
       "      <td>...</td>\n",
       "      <td>0</td>\n",
       "      <td>0</td>\n",
       "      <td>0</td>\n",
       "      <td>0</td>\n",
       "      <td>0</td>\n",
       "    </tr>\n",
       "    <tr>\n",
       "      <th>1</th>\n",
       "      <td>1</td>\n",
       "      <td>0</td>\n",
       "      <td>0</td>\n",
       "      <td>0</td>\n",
       "      <td>0</td>\n",
       "      <td>...</td>\n",
       "      <td>0</td>\n",
       "      <td>0</td>\n",
       "      <td>0</td>\n",
       "      <td>0</td>\n",
       "      <td>0</td>\n",
       "    </tr>\n",
       "    <tr>\n",
       "      <th>2</th>\n",
       "      <td>2</td>\n",
       "      <td>0</td>\n",
       "      <td>0</td>\n",
       "      <td>0</td>\n",
       "      <td>0</td>\n",
       "      <td>...</td>\n",
       "      <td>0</td>\n",
       "      <td>0</td>\n",
       "      <td>0</td>\n",
       "      <td>0</td>\n",
       "      <td>0</td>\n",
       "    </tr>\n",
       "    <tr>\n",
       "      <th>3</th>\n",
       "      <td>3</td>\n",
       "      <td>0</td>\n",
       "      <td>0</td>\n",
       "      <td>0</td>\n",
       "      <td>0</td>\n",
       "      <td>...</td>\n",
       "      <td>0</td>\n",
       "      <td>0</td>\n",
       "      <td>0</td>\n",
       "      <td>0</td>\n",
       "      <td>0</td>\n",
       "    </tr>\n",
       "    <tr>\n",
       "      <th>4</th>\n",
       "      <td>4</td>\n",
       "      <td>0</td>\n",
       "      <td>0</td>\n",
       "      <td>0</td>\n",
       "      <td>0</td>\n",
       "      <td>...</td>\n",
       "      <td>0</td>\n",
       "      <td>0</td>\n",
       "      <td>0</td>\n",
       "      <td>0</td>\n",
       "      <td>0</td>\n",
       "    </tr>\n",
       "  </tbody>\n",
       "</table>\n",
       "<p>5 rows × 785 columns</p>\n",
       "</div>"
      ],
      "text/plain": [
       "   id  v1  v2  v3  v4  ...  v780  v781  v782  v783  v784\n",
       "0   0   0   0   0   0  ...     0     0     0     0     0\n",
       "1   1   0   0   0   0  ...     0     0     0     0     0\n",
       "2   2   0   0   0   0  ...     0     0     0     0     0\n",
       "3   3   0   0   0   0  ...     0     0     0     0     0\n",
       "4   4   0   0   0   0  ...     0     0     0     0     0\n",
       "\n",
       "[5 rows x 785 columns]"
      ]
     },
     "execution_count": 8,
     "metadata": {},
     "output_type": "execute_result"
    }
   ],
   "source": [
    "data_test_df.head()"
   ]
  },
  {
   "cell_type": "code",
   "execution_count": 9,
   "id": "5218845f",
   "metadata": {},
   "outputs": [],
   "source": [
    "data_test_feature = data_test_df.loc[:, \"v1\":\"v784\"].to_numpy()"
   ]
  },
  {
   "cell_type": "markdown",
   "id": "6a094d38",
   "metadata": {},
   "source": [
    "## Data Prepocessing"
   ]
  },
  {
   "cell_type": "markdown",
   "id": "77b755f8",
   "metadata": {},
   "source": [
    "### Data Preprocessing（Normalization）"
   ]
  },
  {
   "cell_type": "code",
   "execution_count": 10,
   "id": "8868ba68",
   "metadata": {},
   "outputs": [],
   "source": [
    "scaler = MinMaxScaler() # creating an object\n",
    "scaler.fit(data_train_feature) # calculate min and max value of the training data\n",
    "data_train_feature_norm = scaler.transform(data_train_feature) # apply normalization to the training set\n",
    "scaler.fit(data_test_feature) \n",
    "data_test_feature_norm = scaler.fit_transform(data_test_feature)"
   ]
  },
  {
   "cell_type": "markdown",
   "id": "0bb2bf99",
   "metadata": {},
   "source": [
    "### Data Seperation"
   ]
  },
  {
   "cell_type": "code",
   "execution_count": 11,
   "id": "8d477506",
   "metadata": {},
   "outputs": [],
   "source": [
    "X_train_norm, X_test_norm, y_train_norm, y_test_norm = train_test_split(data_train_feature_norm, data_train_label, test_size=0.2, random_state=2022)"
   ]
  },
  {
   "cell_type": "markdown",
   "id": "50f2d2d4",
   "metadata": {},
   "source": [
    "### PCA Analysis"
   ]
  },
  {
   "cell_type": "code",
   "execution_count": 12,
   "id": "2242a0c6",
   "metadata": {},
   "outputs": [
    {
     "data": {
      "image/png": "[encoded data removed]",
      "text/plain": [
       "<Figure size 432x288 with 1 Axes>"
      ]
     },
     "metadata": {
      "needs_background": "light"
     },
     "output_type": "display_data"
    }
   ],
   "source": [
    "# Perform PCA without reducing dimensionality\n",
    "pca = PCA()\n",
    "pca.fit(data_train_feature)\n",
    "cumsum = np.cumsum(pca.explained_variance_ratio_)\n",
    "\n",
    "# Plot the explained variance vs number of dimensions\n",
    "\n",
    "plt.figure(figsize = (6,4))\n",
    "plt.plot(cumsum, linewidth=3)\n",
    "plt.axis([0, 784, 0, 1]) \n",
    "plt.xlabel(\"dimensions\")\n",
    "plt.ylabel(\"explained variance\")\n",
    "plt.grid(True)\n",
    "plt.show()"
   ]
  },
  {
   "cell_type": "markdown",
   "id": "45d7314b",
   "metadata": {},
   "source": [
    "### PCA"
   ]
  },
  {
   "cell_type": "code",
   "execution_count": 13,
   "id": "eb360e12",
   "metadata": {},
   "outputs": [],
   "source": [
    "pca = PCA(0.95).fit(X_train_norm)\n",
    "X_train_norm_reduced = pca.transform(X_train_norm)\n",
    "X_test_norm_reduced = pca.transform(X_test_norm)\n",
    "data_train_feature_norm_reduced = pca.transform(data_train_feature_norm)\n",
    "data_test_feature_norm_reduced = pca.transform(data_test_feature_norm)"
   ]
  },
  {
   "cell_type": "markdown",
   "id": "f9006914",
   "metadata": {},
   "source": [
    "### Data Preprocessing(Standardization)"
   ]
  },
  {
   "cell_type": "code",
   "execution_count": 14,
   "id": "e0756ccf",
   "metadata": {},
   "outputs": [],
   "source": [
    "scaler_standard = StandardScaler()\n",
    "data_train_feature_standard = scaler_standard.fit_transform(data_train_feature)\n",
    "data_test_feature_standard = scaler_standard.fit_transform(data_test_feature)"
   ]
  },
  {
   "cell_type": "markdown",
   "id": "b304dcbc",
   "metadata": {},
   "source": [
    "### Split of Data & PCA"
   ]
  },
  {
   "cell_type": "code",
   "execution_count": 15,
   "id": "93199a9d",
   "metadata": {},
   "outputs": [],
   "source": [
    "pca = PCA(0.95).fit(data_train_feature_standard)"
   ]
  },
  {
   "cell_type": "code",
   "execution_count": 16,
   "id": "9794b481",
   "metadata": {},
   "outputs": [],
   "source": [
    "X_train_std, X_test_std, y_train_std, y_test_std = train_test_split(data_train_feature_standard, data_train_label, test_size=0.2, random_state=2022)\n",
    "X_train_std_reduced = pca.transform(X_train_std)\n",
    "X_test_std_reduced = pca.transform(X_test_std)\n",
    "data_train_feature_std_reduced = pca.transform(data_train_feature_standard)\n",
    "data_test_feature_std_reduced = pca.transform(data_test_feature_standard)"
   ]
  },
  {
   "cell_type": "markdown",
   "id": "f1ca408e",
   "metadata": {},
   "source": [
    "## KNN Classification"
   ]
  },
  {
   "cell_type": "markdown",
   "id": "443a997d",
   "metadata": {},
   "source": [
    "### KNN with 3 Neighbors "
   ]
  },
  {
   "cell_type": "code",
   "execution_count": 17,
   "id": "02f656eb",
   "metadata": {},
   "outputs": [
    {
     "name": "stdout",
     "output_type": "stream",
     "text": [
      "3 Neighbors Classifier for normalised data - accuracy on test set: 0.8410\n",
      "3 Neighbors Classifier for normalised data(PCA)- accuracy on test set: 0.8475\n",
      "3 Neighbors Classifier for standardlized data - accuracy on test set: 0.8412\n",
      "3 Neighbors Classifier for standardlized data(PCA)- accuracy on test set: 0.8492\n"
     ]
    }
   ],
   "source": [
    "knn = KNeighborsClassifier(n_neighbors = 3)\n",
    "\n",
    "# #Normalizatin\n",
    "knn.fit(X_train_norm, y_train_norm)\n",
    "print(\"3 Neighbors Classifier for normalised data - accuracy on test set: {:.4f}\".format(knn.score(X_test_norm, y_test_norm)))\n",
    "\n",
    "#Nomalization & PCA\n",
    "knn.fit(X_train_norm_reduced, y_train_norm)\n",
    "print(\"3 Neighbors Classifier for normalised data(PCA)- accuracy on test set: {:.4f}\".format(knn.score(X_test_norm_reduced, y_test_norm)))\n",
    "\n",
    "#Standardlization\n",
    "knn.fit(X_train_std, y_train_std)\n",
    "print(\"3 Neighbors Classifier for standardlized data - accuracy on test set: {:.4f}\".format(knn.score(X_test_std, y_test_std)))\n",
    "\n",
    "#Standlizatoin $ PCA\n",
    "knn.fit(X_train_std_reduced, y_train_std)\n",
    "print(\"3 Neighbors Classifier for standardlized data(PCA)- accuracy on test set: {:.4f}\".format(knn.score(X_test_std_reduced, y_test_std)))"
   ]
  },
  {
   "cell_type": "markdown",
   "id": "62799a0c",
   "metadata": {},
   "source": [
    "### Grid search with cross-validation for selection of number of neighbors and distance calculation method"
   ]
  },
  {
   "cell_type": "code",
   "execution_count": 18,
   "id": "69170289",
   "metadata": {},
   "outputs": [],
   "source": [
    "param_grid = {'n_neighbors': [1, 3, 5, 11, 15],\n",
    "              'p': [1, 2]}\n",
    "print(\"Parameter grid:\\n{}\".format(param_grid))\n",
    "\n",
    "grid_search = GridSearchCV(KNeighborsClassifier(), param_grid, cv=10,\n",
    "                          return_train_score=True)\n",
    "\n",
    "\n",
    "grid_search.fit(data_train_feature_norm, data_train_label)\n",
    "\n",
    "print(\"Test set score: {:.2f}\".format(grid_search.score(data_train_feature_norm, data_train_label)))\n",
    "print(\"Best parameters: {}\".format(grid_search.best_params_))\n",
    "print(\"Best cross-validation score: {:.2f}\".format(grid_search.best_score_))\n",
    "print(\"Best estimator:\\n{}\".format(grid_search.best_estimator_))"
   ]
  },
  {
   "cell_type": "code",
   "execution_count": 37,
   "id": "a67d6a0f",
   "metadata": {},
   "outputs": [
    {
     "name": "stdout",
     "output_type": "stream",
     "text": [
      "Parameter grid:\n",
      "{'n_neighbors': [4, 5, 6, 7, 8, 9, 10], 'p': [1]}\n",
      "Test set score: 0.88\n",
      "Best parameters: {'n_neighbors': 8, 'p': 1}\n",
      "Best cross-validation score: 0.85\n",
      "Best estimator:\n",
      "KNeighborsClassifier(n_neighbors=8, p=1)\n"
     ]
    }
   ],
   "source": [
    "param_grid = {'n_neighbors': [4, 5, 6, 7, 8, 9, 10],\n",
    "              'p': [1]}\n",
    "print(\"Parameter grid:\\n{}\".format(param_grid))\n",
    "\n",
    "grid_search = GridSearchCV(KNeighborsClassifier(), param_grid, cv=10,\n",
    "                          return_train_score=True)\n",
    "\n",
    "\n",
    "grid_search.fit(data_train_feature_norm, data_train_label)\n",
    "\n",
    "print(\"Test set score: {:.2f}\".format(grid_search.score(data_train_feature_norm, data_train_label)))\n",
    "print(\"Best parameters: {}\".format(grid_search.best_params_))\n",
    "print(\"Best cross-validation score: {:.2f}\".format(grid_search.best_score_))\n",
    "print(\"Best estimator:\\n{}\".format(grid_search.best_estimator_))"
   ]
  },
  {
   "cell_type": "markdown",
   "id": "fc1d468c",
   "metadata": {},
   "source": [
    "### Runtime "
   ]
  },
  {
   "cell_type": "code",
   "execution_count": 20,
   "id": "d2b68a8a",
   "metadata": {},
   "outputs": [
    {
     "name": "stdout",
     "output_type": "stream",
     "text": [
      "Time:  44.0380322\n"
     ]
    }
   ],
   "source": [
    "start = timeit.default_timer()\n",
    "\n",
    "knn_clf = KNeighborsClassifier(n_neighbors = 8, p = 1)\n",
    "knn_clf.fit(data_train_feature_std_reduced, data_train_label)\n",
    "y_pred_knn_clf = knn_clf.predict(data_test_feature_std_reduced)\n",
    "\n",
    "stop = timeit.default_timer()\n",
    "print('Time: ', stop - start)  "
   ]
  },
  {
   "cell_type": "markdown",
   "id": "199bd177",
   "metadata": {},
   "source": [
    "## Logistic Regression"
   ]
  },
  {
   "cell_type": "markdown",
   "id": "ebf9a0ac",
   "metadata": {},
   "source": [
    "### Liblinear Logistic Regression"
   ]
  },
  {
   "cell_type": "markdown",
   "id": "623c3f8b",
   "metadata": {},
   "source": [
    "### lbfgs Logistic Regression"
   ]
  },
  {
   "cell_type": "code",
   "execution_count": 21,
   "id": "acf1f1e8",
   "metadata": {},
   "outputs": [
    {
     "name": "stdout",
     "output_type": "stream",
     "text": [
      "Lbfgs Logistic Regression for normalised data - accuracy on test set: 0.8508\n",
      "Lbfgs Logistic Regression for normalised data(PCA)- accuracy on test set: 0.8527\n",
      "Lbfgs Logistic Regression for standardlized data - accuracy on test set: 0.8363\n",
      "Lbfgs Logistic Regression for standardlized data(PCA)- accuracy on test set: 0.8487\n"
     ]
    }
   ],
   "source": [
    "simplefilter(\"ignore\", category=ConvergenceWarning)\n",
    "\n",
    "lr_lbfgs = LogisticRegression(solver=\"lbfgs\", max_iter = 200)\n",
    "\n",
    "# #Normalizatin\n",
    "lr_lbfgs.fit(X_train_norm, y_train_norm)\n",
    "print(\"Lbfgs Logistic Regression for normalised data - accuracy on test set: {:.4f}\".format(lr_lbfgs.score(X_test_norm, y_test_norm)))\n",
    "\n",
    "#Nomalization & PCA\n",
    "lr_lbfgs.fit(X_train_norm_reduced, y_train_norm)\n",
    "print(\"Lbfgs Logistic Regression for normalised data(PCA)- accuracy on test set: {:.4f}\".format(lr_lbfgs.score(X_test_norm_reduced, y_test_norm)))\n",
    "\n",
    "#Standardlization\n",
    "lr_lbfgs.fit(X_train_std, y_train_std)\n",
    "print(\"Lbfgs Logistic Regression for standardlized data - accuracy on test set: {:.4f}\".format(lr_lbfgs.score(X_test_std, y_test_std)))\n",
    "\n",
    "#Standlizatoin $ PCA\n",
    "lr_lbfgs.fit(X_train_std_reduced, y_train_std)\n",
    "print(\"Lbfgs Logistic Regression for standardlized data(PCA)- accuracy on test set: {:.4f}\".format(lr_lbfgs.score(X_test_std_reduced, y_test_std)))"
   ]
  },
  {
   "cell_type": "markdown",
   "id": "c26f84ae",
   "metadata": {},
   "source": [
    "### Saga Logistic Regression"
   ]
  },
  {
   "cell_type": "code",
   "execution_count": 22,
   "id": "7ebc104a",
   "metadata": {},
   "outputs": [
    {
     "name": "stdout",
     "output_type": "stream",
     "text": [
      "Saga Logistic Regression for normalised data - accuracy on test set: 0.8515\n",
      "Saga Logistic Regression for normalised data(PCA)- accuracy on test set: 0.8530\n",
      "Saga Logistic Regression for standardlized data - accuracy on test set: 0.8548\n",
      "Saga Logistic Regression for standardlized data(PCA)- accuracy on test set: 0.8523\n"
     ]
    }
   ],
   "source": [
    "simplefilter(\"ignore\", category=ConvergenceWarning)\n",
    "lr_saga = LogisticRegression(solver=\"saga\", max_iter = 200)\n",
    "\n",
    "# #Normalizatin\n",
    "lr_saga.fit(X_train_norm, y_train_norm)\n",
    "print(\"Saga Logistic Regression for normalised data - accuracy on test set: {:.4f}\".format(lr_saga.score(X_test_norm, y_test_norm)))\n",
    "\n",
    "#Nomalization & PCA\n",
    "lr_saga.fit(X_train_norm_reduced, y_train_norm)\n",
    "print(\"Saga Logistic Regression for normalised data(PCA)- accuracy on test set: {:.4f}\".format(lr_saga.score(X_test_norm_reduced, y_test_norm)))\n",
    "\n",
    "#Standardlization\n",
    "lr_saga.fit(X_train_std, y_train_std)\n",
    "print(\"Saga Logistic Regression for standardlized data - accuracy on test set: {:.4f}\".format(lr_saga.score(X_test_std, y_test_std)))\n",
    "\n",
    "#Standlizatoin $ PCA\n",
    "lr_saga.fit(X_train_std_reduced, y_train_std)\n",
    "print(\"Saga Logistic Regression for standardlized data(PCA)- accuracy on test set: {:.4f}\".format(lr_saga.score(X_test_std_reduced, y_test_std)))"
   ]
  },
  {
   "cell_type": "markdown",
   "id": "9d0b7d12",
   "metadata": {},
   "source": [
    "### Grid search with cross-validation for selection of regulation strength and max number of iteratoin "
   ]
  },
  {
   "cell_type": "code",
   "execution_count": 36,
   "id": "5b16e23c",
   "metadata": {},
   "outputs": [
    {
     "name": "stdout",
     "output_type": "stream",
     "text": [
      "Fitting 6 folds for each of 32 candidates, totalling 192 fits\n",
      "Best parameters: {'C': 0.5, 'class_weight': 'balanced', 'max_iter': 200, 'multi_class': 'multinomial', 'penalty': 'l1', 'solver': 'saga'}\n",
      "Accuracy on trainig set: 86.3375\n",
      "Accuracy on test set: 85.25\n"
     ]
    }
   ],
   "source": [
    "lr_clf = LogisticRegression()\n",
    "\n",
    "penalty = ['l1', 'l2']\n",
    "C = [0.5, 0.6, 0.7, 0.8]\n",
    "max_iter = [50, 100, 200, 1000]\n",
    "class_weight = ['balanced']\n",
    "multi_class = ['multinomial']\n",
    "solver = ['saga']\n",
    "\n",
    "param_grid = dict(penalty=penalty, C=C, class_weight=class_weight, max_iter = max_iter, solver=solver, multi_class = multi_class)\n",
    "\n",
    "lr_cv = GridSearchCV(estimator=lr_clf, param_grid=param_grid, scoring='accuracy',\n",
    "                    verbose=1, n_jobs=-1, cv=6)\n",
    "lr_cv.fit(X_train_std_reduced, y_train_std)\n",
    "best_params = lr_cv.best_params_\n",
    "print(f\"Best parameters: {best_params}\")\n",
    "\n",
    "lr_clf = LogisticRegression(**best_params)\n",
    "lr_clf.fit(X_train_std_reduced, y_train_std)\n",
    "\n",
    "print(\"Accuracy on trainig set:\", lr_clf.score(X_train_std_reduced, y_train_std)*100)\n",
    "print(\"Accuracy on test set:\", lr_clf.score(X_test_std_reduced, y_test_std)*100)\n"
   ]
  },
  {
   "cell_type": "markdown",
   "id": "afaeb207",
   "metadata": {},
   "source": [
    "### Runtime"
   ]
  },
  {
   "cell_type": "code",
   "execution_count": 24,
   "id": "1ace9137",
   "metadata": {},
   "outputs": [
    {
     "name": "stdout",
     "output_type": "stream",
     "text": [
      "Time:  218.86339900000002\n"
     ]
    }
   ],
   "source": [
    "simplefilter(\"ignore\", category=ConvergenceWarning)\n",
    "lr_clf= LogisticRegression(penalty='l1', C=0.5, solver = 'saga',class_weight= 'balanced', multi_class='multinomial',max_iter = 100)\n",
    "\n",
    "start = timeit.default_timer()\n",
    "\n",
    "lr_clf.fit(data_train_feature_standard, data_train_label)\n",
    "y_pred_lr_clf = lr_clf.predict(data_test_feature_standard)\n",
    "\n",
    "stop = timeit.default_timer()\n",
    "print('Time: ', stop - start) "
   ]
  },
  {
   "cell_type": "markdown",
   "id": "b87b7094",
   "metadata": {},
   "source": [
    "## SVM"
   ]
  },
  {
   "cell_type": "markdown",
   "id": "0b3a804a",
   "metadata": {},
   "source": [
    "### Linear SVM"
   ]
  },
  {
   "cell_type": "code",
   "execution_count": 25,
   "id": "89f99d19",
   "metadata": {},
   "outputs": [
    {
     "name": "stdout",
     "output_type": "stream",
     "text": [
      "Linear SVM with normalised data - accuracy on test set: 0.8445\n",
      "Linear SVM with normalised data(PCA)- accuracy on test set: 0.8568\n",
      "Linear SVM with standardlized data - accuracy on test set: 0.8292\n",
      "Linear SVM with standardlized data(PCA)- accuracy on test set: 0.8487\n"
     ]
    }
   ],
   "source": [
    "lin_svm = SVC(kernel=\"linear\")\n",
    "\n",
    "# #Normalizatin\n",
    "lin_svm.fit(X_train_norm, y_train_norm)\n",
    "print(\"Linear SVM with normalised data - accuracy on test set: {:.4f}\".format(lin_svm.score(X_test_norm, y_test_norm)))\n",
    "\n",
    "#Nomalization & PCA\n",
    "lin_svm.fit(X_train_norm_reduced, y_train_norm)\n",
    "print(\"Linear SVM with normalised data(PCA)- accuracy on test set: {:.4f}\".format(lin_svm.score(X_test_norm_reduced, y_test_norm)))\n",
    "\n",
    "#Standardlization\n",
    "lin_svm.fit(X_train_std, y_train_std)\n",
    "print(\"Linear SVM with standardlized data - accuracy on test set: {:.4f}\".format(lin_svm.score(X_test_std, y_test_std)))\n",
    "\n",
    "#Standlizatoin $ PCA\n",
    "lin_svm.fit(X_train_std_reduced, y_train_std)\n",
    "print(\"Linear SVM with standardlized data(PCA)- accuracy on test set: {:.4f}\".format(lin_svm.score(X_test_std_reduced, y_test_std)))"
   ]
  },
  {
   "cell_type": "markdown",
   "id": "518a4329",
   "metadata": {},
   "source": [
    "### SVM with polynomial kernel"
   ]
  },
  {
   "cell_type": "code",
   "execution_count": 26,
   "id": "fc4a51ec",
   "metadata": {},
   "outputs": [
    {
     "name": "stdout",
     "output_type": "stream",
     "text": [
      "SVM with polynomial kernel for normalised data - accuracy on test set: 0.8613\n",
      "SVM with polynomial kernel for data(PCA)- accuracy on test set: 0.8767\n",
      "SVM with polynomial kernel for data - accuracy on test set: 0.8750\n",
      "SVM with polynomial kernel for data(PCA)- accuracy on test set: 0.8750\n"
     ]
    }
   ],
   "source": [
    "poly_svm = SVC(kernel=\"poly\", degree=2)#polynomial kernel with degree 2\n",
    "\n",
    "# #Normalizatin\n",
    "poly_svm.fit(X_train_norm, y_train_norm)\n",
    "print(\"SVM with polynomial kernel for normalised data - accuracy on test set: {:.4f}\".format(poly_svm.score(X_test_norm, y_test_norm)))\n",
    "\n",
    "#Nomalization & PCA\n",
    "poly_svm.fit(X_train_norm_reduced, y_train_norm)\n",
    "print(\"SVM with polynomial kernel for data(PCA)- accuracy on test set: {:.4f}\".format(poly_svm.score(X_test_norm_reduced, y_test_norm)))\n",
    "\n",
    "#Standardlization\n",
    "poly_svm.fit(X_train_std, y_train_std)\n",
    "print(\"SVM with polynomial kernel for data - accuracy on test set: {:.4f}\".format(poly_svm.score(X_test_std, y_test_std)))\n",
    "\n",
    "#Standlizatoin $ PCA\n",
    "poly_svm.fit(X_train_std_reduced, y_train_std)\n",
    "print(\"SVM with polynomial kernel for data(PCA)- accuracy on test set: {:.4f}\".format(poly_svm.score(X_test_std_reduced, y_test_std)))"
   ]
  },
  {
   "cell_type": "code",
   "execution_count": 27,
   "id": "5dcabd8d",
   "metadata": {},
   "outputs": [
    {
     "name": "stdout",
     "output_type": "stream",
     "text": [
      "SVM with polynomial kernel for normalised data - accuracy on test set: 0.8493\n",
      "SVM with polynomial kernel for data(PCA)- accuracy on test set: 0.8745\n",
      "SVM with polynomial kernel for data - accuracy on test set: 0.8678\n",
      "SVM with polynomial kernel for data(PCA)- accuracy on test set: 0.8675\n"
     ]
    }
   ],
   "source": [
    "poly_svm = SVC(kernel=\"poly\", degree=3)#polynomial kernel with degree 3\n",
    "\n",
    "# #Normalizatin\n",
    "poly_svm.fit(X_train_norm, y_train_norm)\n",
    "print(\"SVM with polynomial kernel for normalised data - accuracy on test set: {:.4f}\".format(poly_svm.score(X_test_norm, y_test_norm)))\n",
    "\n",
    "#Nomalization & PCA\n",
    "poly_svm.fit(X_train_norm_reduced, y_train_norm)\n",
    "print(\"SVM with polynomial kernel for data(PCA)- accuracy on test set: {:.4f}\".format(poly_svm.score(X_test_norm_reduced, y_test_norm)))\n",
    "\n",
    "#Standardlization\n",
    "poly_svm.fit(X_train_std, y_train_std)\n",
    "print(\"SVM with polynomial kernel for data - accuracy on test set: {:.4f}\".format(poly_svm.score(X_test_std, y_test_std)))\n",
    "\n",
    "#Standlizatoin $ PCA\n",
    "poly_svm.fit(X_train_std_reduced, y_train_std)\n",
    "print(\"SVM with polynomial kernel for data(PCA)- accuracy on test set: {:.4f}\".format(poly_svm.score(X_test_std_reduced, y_test_std)))"
   ]
  },
  {
   "cell_type": "code",
   "execution_count": 28,
   "id": "99e6051c",
   "metadata": {},
   "outputs": [
    {
     "name": "stdout",
     "output_type": "stream",
     "text": [
      "Parameter grid:\n",
      "{'C': [0.01, 0.1, 1, 10], 'gamma': [0.01, 0.1, 1, 10]}\n",
      "Test set score: 0.8947\n",
      "Best parameters: {'C': 10, 'gamma': 0.01}\n",
      "Best cross-validation score: 0.8885\n",
      "Best estimator:\n",
      "SVC(C=10, degree=2, gamma=0.01)\n",
      "Accuracy on trainig set: 86.44583333333333\n",
      "Accuracy on test set: 85.26666666666667\n"
     ]
    }
   ],
   "source": [
    "param_grid = {'C': [0.01, 0.1, 1, 10],\n",
    "              'gamma': [0.01, 0.1, 1, 10]}\n",
    "print(\"Parameter grid:\\n{}\".format(param_grid))\n",
    "\n",
    "poly_clf = SVC(kernel=\"rbf\", degree = 2)\n",
    "grid_search = GridSearchCV(poly_clf, param_grid, return_train_score=True, cv=6)\n",
    "\n",
    "\n",
    "grid_search.fit(X_train_norm_reduced, y_train_norm)\n",
    "\n",
    "print(\"Test set score: {:.4f}\".format(grid_search.score(X_test_norm_reduced, y_test_norm)))\n",
    "print(\"Best parameters: {}\".format(grid_search.best_params_))\n",
    "print(\"Best cross-validation score: {:.4f}\".format(grid_search.best_score_))\n",
    "print(\"Best estimator:\\n{}\".format(grid_search.best_estimator_))\n",
    "\n",
    "rbf_svm_clf = SVC(**grid_search.best_params_)\n",
    "lr_clf.fit(X_train_norm_reduced, y_train_norm)\n",
    "\n",
    "\n",
    "print(\"Accuracy on trainig set:\", lr_clf.score(X_train_norm_reduced, y_train_norm)*100)\n",
    "print(\"Accuracy on test set:\", lr_clf.score(X_test_norm_reduced, y_test_norm)*100)"
   ]
  },
  {
   "cell_type": "markdown",
   "id": "6f02e080",
   "metadata": {},
   "source": [
    "### SVM with RBF kernel"
   ]
  },
  {
   "cell_type": "code",
   "execution_count": 30,
   "id": "d60ee876",
   "metadata": {},
   "outputs": [
    {
     "name": "stdout",
     "output_type": "stream",
     "text": [
      "SVM with RBF kernel for normalised data - accuracy on test set: 0.8410\n",
      "SVM with RBF kernel for normalised data(PCA)- accuracy on test set: 0.8635\n",
      "SVM with RBF kernel for standardlized data - accuracy on test set: 0.8820\n",
      "SVM with RBF kernel for standardlized data(PCA)- accuracy on test set: 0.8758\n"
     ]
    }
   ],
   "source": [
    "rbf_svm = SVC(kernel=\"rbf\", gamma=\"auto\")\n",
    "\n",
    "# #Normalizatin\n",
    "rbf_svm.fit(X_train_norm, y_train_norm)\n",
    "print(\"SVM with RBF kernel for normalised data - accuracy on test set: {:.4f}\".format(rbf_svm.score(X_test_norm, y_test_norm)))\n",
    "\n",
    "#Nomalization & PCA\n",
    "rbf_svm.fit(X_train_norm_reduced, y_train_norm)\n",
    "print(\"SVM with RBF kernel for normalised data(PCA)- accuracy on test set: {:.4f}\".format(rbf_svm.score(X_test_norm_reduced, y_test_norm)))\n",
    "\n",
    "#Standardlization\n",
    "rbf_svm.fit(X_train_std, y_train_std)\n",
    "print(\"SVM with RBF kernel for standardlized data - accuracy on test set: {:.4f}\".format(rbf_svm.score(X_test_std, y_test_std)))\n",
    "\n",
    "#Standlizatoin $ PCA\n",
    "rbf_svm.fit(X_train_std_reduced, y_train_std)\n",
    "print(\"SVM with RBF kernel for standardlized data(PCA)- accuracy on test set: {:.4f}\".format(rbf_svm.score(X_test_std_reduced, y_test_std)))"
   ]
  },
  {
   "cell_type": "markdown",
   "id": "fe50be7b",
   "metadata": {},
   "source": [
    "### Grid search with cross-validation for selection of Regularization parameter and kernal coefficient"
   ]
  },
  {
   "cell_type": "code",
   "execution_count": 19,
   "id": "4caa66c4",
   "metadata": {},
   "outputs": [
    {
     "name": "stdout",
     "output_type": "stream",
     "text": [
      "Parameter grid:\n",
      "{'C': [0.05, 0.08, 1, 5]}\n",
      "Test set score: 0.8940\n",
      "Best parameters: {'C': 5}\n",
      "Best cross-validation score: 0.8865\n",
      "Best estimator:\n",
      "SVC(C=5, gamma='auto')\n",
      "Accuracy on trainig set: 97.03333333333333\n",
      "Accuracy on test set: 89.38333333333334\n"
     ]
    }
   ],
   "source": [
    "param_grid = {'C': [0.05,0.08,1,5]}\n",
    "print(\"Parameter grid:\\n{}\".format(param_grid))\n",
    "\n",
    "rbf_clf = SVC(kernel=\"rbf\",gamma=\"auto\")\n",
    "grid_search = GridSearchCV(rbf_clf, param_grid, return_train_score=True, cv=6)\n",
    "\n",
    "\n",
    "grid_search.fit(X_train_std, y_train_std)\n",
    "\n",
    "print(\"Test set score: {:.4f}\".format(grid_search.score(X_test_std, y_test_std)))\n",
    "print(\"Best parameters: {}\".format(grid_search.best_params_))\n",
    "print(\"Best cross-validation score: {:.4f}\".format(grid_search.best_score_))\n",
    "print(\"Best estimator:\\n{}\".format(grid_search.best_estimator_))\n",
    "\n",
    "rbf_clf = SVC(**grid_search.best_params_)\n",
    "rbf_clf.fit(X_train_std, y_train_std)\n",
    "\n",
    "\n",
    "print(\"Accuracy on trainig set:\", rbf_clf.score(X_train_std, y_train_std)*100)\n",
    "print(\"Accuracy on test set:\", rbf_clf.score(X_test_std, y_test_std)*100)"
   ]
  },
  {
   "cell_type": "code",
   "execution_count": 17,
   "id": "cf79f18b",
   "metadata": {},
   "outputs": [
    {
     "name": "stdout",
     "output_type": "stream",
     "text": [
      "Parameter grid:\n",
      "{'C': [1, 2, 3, 4, 5, 6, 7, 8, 9, 10]}\n",
      "Test set score: 0.8843\n",
      "Best parameters: {'C': 3}\n",
      "Best cross-validation score: 0.8775\n",
      "Best estimator:\n",
      "SVC(C=3, gamma='auto')\n",
      "Accuracy on trainig set: 94.19999999999999\n",
      "Accuracy on test set: 89.16666666666667\n"
     ]
    }
   ],
   "source": [
    "param_grid = {'C': [1,2,3,4,5,6,7,8,9,10]}\n",
    "print(\"Parameter grid:\\n{}\".format(param_grid))\n",
    "\n",
    "rbf_clf = SVC(kernel=\"rbf\",gamma=\"auto\")\n",
    "grid_search = GridSearchCV(rbf_clf, param_grid, return_train_score=True, cv=6)\n",
    "\n",
    "\n",
    "grid_search.fit(X_train_std_reduced, y_train_std)\n",
    "\n",
    "print(\"Test set score: {:.4f}\".format(grid_search.score(X_test_std_reduced, y_test_std)))\n",
    "print(\"Best parameters: {}\".format(grid_search.best_params_))\n",
    "print(\"Best cross-validation score: {:.4f}\".format(grid_search.best_score_))\n",
    "print(\"Best estimator:\\n{}\".format(grid_search.best_estimator_))\n",
    "\n",
    "rbf_clf = SVC(**grid_search.best_params_)\n",
    "rbf_clf.fit(X_train_std_reduced, y_train_std)\n",
    "\n",
    "\n",
    "print(\"Accuracy on trainig set:\", rbf_clf.score(X_train_std_reduced, y_train_std)*100)\n",
    "print(\"Accuracy on test set:\", rbf_clf.score(X_test_std_reduced, y_test_std)*100)"
   ]
  },
  {
   "cell_type": "code",
   "execution_count": 22,
   "id": "3a69dae7",
   "metadata": {},
   "outputs": [
    {
     "name": "stdout",
     "output_type": "stream",
     "text": [
      "Time:  12.614953499999956\n"
     ]
    }
   ],
   "source": [
    "start = timeit.default_timer()\n",
    "\n",
    "rbf_clf = SVC(kernel=\"rbf\",gamma=0.01,C = 67)\n",
    "rbf_clf.fit(data_train_feature_norm, data_train_label)\n",
    "y_pred_rbs_svm = rbf_clf.predict(data_test_feature_norm)\n",
    "\n",
    "stop = timeit.default_timer()\n",
    "print('Time: ', stop - start)"
   ]
  },
  {
   "cell_type": "markdown",
   "id": "08cd58ec",
   "metadata": {},
   "source": [
    "## Ensemble"
   ]
  },
  {
   "cell_type": "markdown",
   "id": "d211910b",
   "metadata": {},
   "source": [
    "### Ensemble - Randomforest with default setting"
   ]
  },
  {
   "cell_type": "code",
   "execution_count": 32,
   "id": "2fc09c38",
   "metadata": {},
   "outputs": [
    {
     "name": "stdout",
     "output_type": "stream",
     "text": [
      "The cross validation scoren is [0.86925 0.8585  0.8735  0.86875 0.8695  0.86775]\n",
      "The cross validation scoren is [0.84875 0.841   0.856   0.852   0.8455  0.85875]\n",
      "The cross validation scoren is [0.87275 0.861   0.8755  0.8735  0.86475 0.87325]\n",
      "The cross validation scoren is [0.84675 0.8375  0.8595  0.85325 0.844   0.856  ]\n"
     ]
    },
    {
     "data": {
      "text/plain": [
       "RandomForestClassifier()"
      ]
     },
     "execution_count": 32,
     "metadata": {},
     "output_type": "execute_result"
    }
   ],
   "source": [
    "#Normalizatin\n",
    "k_fold = 6\n",
    "model_randomforest = RandomForestClassifier()\n",
    "score = cross_val_score(model_randomforest, X_train_norm, y_train_norm, cv=StratifiedKFold(k_fold), scoring=\"accuracy\")\n",
    "print(\"The cross validation scoren is\",score)\n",
    "model_randomforest.fit(X_train_norm, y_train_norm)\n",
    "\n",
    "#Nomalization & PCA\n",
    "model_randomforest = RandomForestClassifier()\n",
    "score = cross_val_score(model_randomforest,X_train_norm_reduced, y_train_norm, cv=StratifiedKFold(k_fold), scoring=\"accuracy\")\n",
    "print(\"The cross validation scoren is\",score)\n",
    "model_randomforest.fit(X_train_norm_reduced, y_train_norm\n",
    ")\n",
    "\n",
    "#Standardlization\n",
    "model_randomforest = RandomForestClassifier()\n",
    "score = cross_val_score(model_randomforest, X_train_std, y_train_std, cv=StratifiedKFold(k_fold), scoring=\"accuracy\")\n",
    "print(\"The cross validation scoren is\",score)\n",
    "model_randomforest.fit(X_train_std, y_train_std)\n",
    "\n",
    "#Standlizatoin $ PCA\n",
    "model_randomforest = RandomForestClassifier()\n",
    "score = cross_val_score(model_randomforest, X_train_std_reduced, y_train_std, cv=StratifiedKFold(k_fold), scoring=\"accuracy\")\n",
    "print(\"The cross validation scoren is\",score)\n",
    "model_randomforest.fit(X_train_std_reduced, y_train_std)"
   ]
  },
  {
   "cell_type": "markdown",
   "id": "87f86893",
   "metadata": {},
   "source": [
    "### Grid search with cross-validation for Random forest"
   ]
  },
  {
   "cell_type": "code",
   "execution_count": 38,
   "id": "a0df056c",
   "metadata": {},
   "outputs": [
    {
     "name": "stdout",
     "output_type": "stream",
     "text": [
      "Parameter grid:\n",
      "{'n_estimators': [149, 182], 'max_depth': [31]}\n",
      "Best parameters: {'max_depth': 31, 'n_estimators': 149}\n",
      "Best cross-validation score: 0.8559166666666667\n",
      "Best estimator:\n",
      "RandomForestClassifier(max_depth=31, n_estimators=149)\n"
     ]
    }
   ],
   "source": [
    "param_grid = {'n_estimators': [149,182], 'max_depth': [31]}\n",
    "print(\"Parameter grid:\\n{}\".format(param_grid))\n",
    "grid_search = GridSearchCV(RandomForestClassifier(), param_grid, cv=5, return_train_score=True, n_jobs=-1)\n",
    "grid_search.fit(X_train_norm_reduced, y_train_norm)\n",
    "print(\"Best parameters: {}\".format(grid_search.best_params_))\n",
    "print(\"Best cross-validation score: {}\".format(grid_search.best_score_))\n",
    "print(\"Best estimator:\\n{}\".format(grid_search.best_estimator_))"
   ]
  },
  {
   "cell_type": "markdown",
   "id": "cf414bba",
   "metadata": {},
   "source": [
    "### Runtime"
   ]
  },
  {
   "cell_type": "code",
   "execution_count": 33,
   "id": "94230342",
   "metadata": {},
   "outputs": [
    {
     "name": "stdout",
     "output_type": "stream",
     "text": [
      "[0.85425 0.8475  0.861   0.8575  0.8515  0.8615 ]\n",
      "The running time is 203.21590542793274\n"
     ]
    }
   ],
   "source": [
    "start=time.time()\n",
    "model_randomforest = RandomForestClassifier(max_depth=31, n_estimators=149)\n",
    "k_fold = 6\n",
    "score = cross_val_score(model_randomforest, X_train_norm_reduced, y_train_norm, cv=StratifiedKFold(k_fold), scoring=\"accuracy\")\n",
    "print(score)\n",
    "model_randomforest.fit(X_train_norm_reduced, y_train_norm)\n",
    "end=time.time()\n",
    "print(\"The running time is\",end-start)"
   ]
  },
  {
   "cell_type": "markdown",
   "id": "1b3670b7",
   "metadata": {},
   "source": [
    "### Ensemble - Stacking (3 x SVM + Randomforest)"
   ]
  },
  {
   "cell_type": "code",
   "execution_count": 34,
   "id": "170c76fd",
   "metadata": {},
   "outputs": [
    {
     "name": "stdout",
     "output_type": "stream",
     "text": [
      "Accuracy on trainig set: 99.33333333333333\n",
      "Accuracy on test set: 88.41666666666667\n"
     ]
    }
   ],
   "source": [
    "rbf_clf = SVC(kernel=\"rbf\",gamma=\"auto\",C = 4)\n",
    "rbf_clf_2 = SVC(kernel=\"rbf\",gamma= 0.01,C = 67)\n",
    "poly_clf = SVC(kernel=\"poly\", degree=2)\n",
    "rf_clf = RandomForestClassifier(max_depth=31, random_state=149)\n",
    "               \n",
    "scclf = StackingCVClassifier(\n",
    "   classifiers=[poly_clf, rf_clf, rbf_clf_2], meta_classifier=rbf_clf)\n",
    "\n",
    "scclf.fit(X_train_std, y_train_std)\n",
    "print(\"Accuracy on trainig set:\", scclf.score(X_train_std, y_train_std)*100)\n",
    "print(\"Accuracy on test set:\", scclf.score(X_test_std, y_test_std)*100)"
   ]
  },
  {
   "cell_type": "markdown",
   "id": "c32013e1",
   "metadata": {},
   "source": [
    "### Runtime"
   ]
  },
  {
   "cell_type": "code",
   "execution_count": 35,
   "id": "49d3e963",
   "metadata": {},
   "outputs": [
    {
     "name": "stdout",
     "output_type": "stream",
     "text": [
      "Time:  112.75023310000006\n"
     ]
    }
   ],
   "source": [
    "start = timeit.default_timer()\n",
    "\n",
    "scclf.fit(data_train_feature_std_reduced, data_train_label)\n",
    "y_pred_scclf = scclf.predict(data_train_feature_std_reduced)\n",
    "\n",
    "stop = timeit.default_timer()\n",
    "print('Time: ', stop - start)"
   ]
  },
  {
   "cell_type": "markdown",
   "id": "97abb246",
   "metadata": {},
   "source": [
    "## Export Stage"
   ]
  },
  {
   "cell_type": "code",
   "execution_count": null,
   "id": "a8fe5c57",
   "metadata": {},
   "outputs": [],
   "source": [
    "output = y_pred_rbs_svm\n",
    "output_df = pd.DataFrame(output, columns = ['label'])\n",
    "output_df.to_csv('./Output/test_output.csv', sep=\",\", float_format='%d', index_label=\"id\")"
   ]
  }
 ],
 "metadata": {
  "kernelspec": {
   "display_name": "Python 3 (ipykernel)",
   "language": "python",
   "name": "python3"
  },
  "language_info": {
   "codemirror_mode": {
    "name": "ipython",
    "version": 3
   },
   "file_extension": ".py",
   "mimetype": "text/x-python",
   "name": "python",
   "nbconvert_exporter": "python",
   "pygments_lexer": "ipython3",
   "version": "3.9.10"
  }
 },
 "nbformat": 4,
 "nbformat_minor": 5
}
